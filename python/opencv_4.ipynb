{
 "cells": [
  {
   "cell_type": "markdown",
   "metadata": {},
   "source": [
    "# 이미지 기초 지식"
   ]
  },
  {
   "cell_type": "markdown",
   "metadata": {},
   "source": [
    "*이미지 특정 픽셀 추출  \n",
    "p = img[100, 100]  #(100,100)위치의 픽셀 한 개 추출  \n",
    "print(p)  \n",
    "=>[134, 156, 219]  #[b, g, r]  "
   ]
  },
  {
   "cell_type": "code",
   "execution_count": 2,
   "metadata": {},
   "outputs": [
    {
     "data": {
      "text/plain": [
       "array([111, 131, 132], dtype=uint8)"
      ]
     },
     "execution_count": 2,
     "metadata": {},
     "output_type": "execute_result"
    }
   ],
   "source": [
    "import cv2\n",
    "img = cv2.imread('./images/a.jpg', 1)\n",
    "p = img[100, 100]\n",
    "p  #[b, g, r]"
   ]
  },
  {
   "cell_type": "markdown",
   "metadata": {},
   "source": [
    "*이미지 특정 픽셀의 한 채널(b, g, r)의 값  \n",
    "c = img[100, 100, 0] #0:b, 1:g, 2:r  \n",
    "print(c)  \n",
    "=>134  "
   ]
  },
  {
   "cell_type": "code",
   "execution_count": 3,
   "metadata": {},
   "outputs": [
    {
     "data": {
      "text/plain": [
       "111"
      ]
     },
     "execution_count": 3,
     "metadata": {},
     "output_type": "execute_result"
    }
   ],
   "source": [
    "blue_color = img[100, 100, 0]  #blue 색상값. 0:blue, 1:green, 2:red\n",
    "blue_color"
   ]
  },
  {
   "cell_type": "markdown",
   "metadata": {},
   "source": [
    "*특정 픽셀 값 변경  \n",
    "img[100, 100] = [255,255,255]#(100,100)위치의 픽셀을 흰색으로 변경  "
   ]
  },
  {
   "cell_type": "code",
   "execution_count": 4,
   "metadata": {},
   "outputs": [],
   "source": [
    "img[100, 100] = [255,255,255]\n",
    "cv2.imshow('img', img)\n",
    "cv2.waitKey(0)\n",
    "cv2.destroyAllWindows()"
   ]
  },
  {
   "cell_type": "markdown",
   "metadata": {},
   "source": [
    "*img.item: 특정 픽셀을 나타내는 속성  \n",
    "img.item(100, 100, 2)# (100,100)위치의 픽셀의 red값 반환  \n",
    "img.itemset((100, 100, 2), 255)#(100,100)위치의 픽셀의 red값을 255로 변경  "
   ]
  },
  {
   "cell_type": "code",
   "execution_count": 6,
   "metadata": {},
   "outputs": [
    {
     "name": "stdout",
     "output_type": "stream",
     "text": [
      "255\n",
      "255\n"
     ]
    }
   ],
   "source": [
    "p2 = img.item(100, 100, 2)\n",
    "print(p2)\n",
    "p3 = img[100, 100, 2]\n",
    "print(p3)"
   ]
  },
  {
   "cell_type": "code",
   "execution_count": 8,
   "metadata": {},
   "outputs": [],
   "source": [
    "# 검정색 점으로 변경\n",
    "img.itemset((100, 100, 0), 0)\n",
    "img.itemset((100, 100, 1), 0)\n",
    "img.itemset((100, 100, 2), 0)\n",
    "cv2.imshow('img', img)\n",
    "cv2.waitKey(0)\n",
    "cv2.destroyAllWindows()"
   ]
  },
  {
   "cell_type": "markdown",
   "metadata": {},
   "source": [
    "*img.shape: 세로길이, 가로길이, 채널  \n",
    "h, w, c = img.shape  \n",
    "=>h:세로길이, w:가로길이, c:채널  \n",
    "\n",
    "*img.size: 전체 픽셀 수  \n",
    "*img.dtype: 픽셀표현 데이터 타입  "
   ]
  },
  {
   "cell_type": "code",
   "execution_count": 9,
   "metadata": {},
   "outputs": [
    {
     "data": {
      "text/plain": [
       "(427, 640, 3)"
      ]
     },
     "execution_count": 9,
     "metadata": {},
     "output_type": "execute_result"
    }
   ],
   "source": [
    "img.shape"
   ]
  },
  {
   "cell_type": "code",
   "execution_count": 10,
   "metadata": {},
   "outputs": [
    {
     "data": {
      "text/plain": [
       "819840"
      ]
     },
     "execution_count": 10,
     "metadata": {},
     "output_type": "execute_result"
    }
   ],
   "source": [
    "img.size  # h*w*c"
   ]
  },
  {
   "cell_type": "code",
   "execution_count": 11,
   "metadata": {},
   "outputs": [
    {
     "data": {
      "text/plain": [
       "dtype('uint8')"
      ]
     },
     "execution_count": 11,
     "metadata": {},
     "output_type": "execute_result"
    }
   ],
   "source": [
    "img.dtype  #채널 표현 데이타 타입"
   ]
  },
  {
   "cell_type": "markdown",
   "metadata": {},
   "source": [
    "*roi(region of image): 이미지의 특정 영역 추출  \n",
    "roi = img[h시작점:h끝점, w시작점:w끝점]"
   ]
  },
  {
   "cell_type": "code",
   "execution_count": 22,
   "metadata": {},
   "outputs": [],
   "source": [
    "roi = img[100:200, 100:300]  # 특정 영역 추출\n",
    "cv2.imshow('roi', roi)\n",
    "cv2.waitKey(0)\n",
    "cv2.destroyAllWindows()"
   ]
  },
  {
   "cell_type": "code",
   "execution_count": 23,
   "metadata": {},
   "outputs": [],
   "source": [
    "img[0:100, 200:400] = roi  # img의 특정 영역 바꾸기\n",
    "cv2.imshow('img', img)\n",
    "cv2.waitKey(0)\n",
    "cv2.destroyAllWindows()"
   ]
  },
  {
   "cell_type": "markdown",
   "metadata": {},
   "source": [
    "*이미지 채널 분리  \n",
    "b,g,r = cv2.split(img)  #  계산비용이 크다  \n",
    "  => 색상분리, 0:blue, 1:green, 2:red  \n",
    "img = cv2.merge((r,g,b))  \n",
    "  => 분리한 색상 다시 역순으로 결합"
   ]
  },
  {
   "cell_type": "code",
   "execution_count": 24,
   "metadata": {},
   "outputs": [],
   "source": [
    "b,g,r = cv2.split(img)  # 계산 비용 크다\n",
    "img = cv2.merge((r,g,b))\n",
    "cv2.imshow('img', img)\n",
    "cv2.waitKey(0)\n",
    "cv2.destroyAllWindows()"
   ]
  },
  {
   "cell_type": "markdown",
   "metadata": {},
   "source": [
    "*cv2.split()이 비싸므로 numpy 인덱싱으로 접근하는것이 효과적이다  \n",
    "b = img[:,:,0]  #blue 채널 추출"
   ]
  },
  {
   "cell_type": "code",
   "execution_count": 25,
   "metadata": {},
   "outputs": [
    {
     "data": {
      "text/plain": [
       "array([[135, 136, 136, ..., 112, 114, 114],\n",
       "       [136, 135, 135, ..., 115, 116, 115],\n",
       "       [133, 132, 129, ..., 117, 116, 116],\n",
       "       ...,\n",
       "       [ 96,  96,  95, ...,  58,  60,  62],\n",
       "       [ 96,  96,  95, ...,  58,  61,  62],\n",
       "       [ 96,  96,  95, ...,  59,  61,  63]], dtype=uint8)"
      ]
     },
     "execution_count": 25,
     "metadata": {},
     "output_type": "execute_result"
    }
   ],
   "source": [
    "img_blue = img[:,:,0]\n",
    "img_blue"
   ]
  },
  {
   "cell_type": "code",
   "execution_count": 26,
   "metadata": {},
   "outputs": [],
   "source": [
    "img[:,:,2] = 0  #이미지에서 빨간색 제거\n",
    "cv2.imshow('img', img)\n",
    "cv2.waitKey(0)\n",
    "cv2.destroyAllWindows()"
   ]
  },
  {
   "cell_type": "markdown",
   "metadata": {},
   "source": [
    "<이미지 복사>  "
   ]
  },
  {
   "cell_type": "code",
   "execution_count": 30,
   "metadata": {},
   "outputs": [],
   "source": [
    "import cv2\n",
    "src = cv2.imread('./images/a.jpg')\n",
    "img1 = src   #얕은 복사, bgr값은 참조\n",
    "img2 = src.copy()   #깊은 복사\n",
    "img1[100:200, 100:200, 2] = 255  # src, img1의 부분이 변경됨\n",
    "cv2.imshow('src', src)\n",
    "cv2.imshow('img1', img1)\n",
    "cv2.imshow('img2', img2)\n",
    "cv2.waitKey(0)\n",
    "cv2.destroyAllWindows()"
   ]
  },
  {
   "cell_type": "markdown",
   "metadata": {},
   "source": [
    "<이미지 color-space 변환>  \n",
    "cv2.cvtColor(img, type)  \n",
    "type  \n",
    "cv2.COLOR_BGR2GRAY: 칼라를 흑백으로  \n",
    "cv2.COLOR_BGR2RGB: BGR을 RGB로  \n",
    "cv2.COLOR_RGB2BGR: RGB를 BGR로 ..."
   ]
  },
  {
   "cell_type": "code",
   "execution_count": 32,
   "metadata": {},
   "outputs": [],
   "source": [
    "import cv2\n",
    "src = cv2.imread('./images/a.jpg')\n",
    "img1 = cv2.cvtColor(src, cv2.COLOR_BGR2GRAY)\n",
    "img2 = cv2.cvtColor(src, cv2.COLOR_BGR2RGB)\n",
    "img3 = cv2.cvtColor(img2, cv2.COLOR_RGB2BGR)\n",
    "cv2.imshow('src', src)\n",
    "cv2.imshow('img1', img1)\n",
    "cv2.imshow('img2', img2)\n",
    "cv2.imshow('img3', img3)\n",
    "cv2.waitKey(0)\n",
    "cv2.destroyAllWindows()"
   ]
  },
  {
   "cell_type": "code",
   "execution_count": null,
   "metadata": {},
   "outputs": [],
   "source": []
  },
  {
   "cell_type": "code",
   "execution_count": 2,
   "metadata": {},
   "outputs": [],
   "source": [
    "# 이미지 복붙 해보기\n",
    "import cv2\n",
    "import numpy as np\n",
    "\n",
    "src = cv2.imread('./images/c.jpg')#d.jpg 파일. src는 메모리에 저장된 배열\n",
    "h, w, c = src.shape  #배열모양. 이미지의 세로, 가로, 채널 크기를 알려줌\n",
    "dst = np.full((h, w, c), [255,255,255], dtype=np.uint8)# h X w 크기의 하얀 이미지를 생성. 복붙할 판.\n",
    "\n",
    "p0 = None  #LBUTTONDOWN 이벤트가 발생하는 지점. 복사할 영역 시작점\n",
    "p1 = None  #LBUTTONUP 이벤트가 발생하는 지점. 복사할 영역 끝점\n",
    "roi = None  #\n",
    "\n",
    "cv2.imshow('src', src)\n",
    "cv2.imshow('dst', dst)\n",
    "\n",
    "def handdler_src(event, x, y, flags, param):  #원본이미지 윈도우에 붙인 이벤트 핸들러\n",
    "    global p0, p1\n",
    "    if event == cv2.EVENT_LBUTTONDOWN:\n",
    "        p0 = (x, y)\n",
    "    elif event == cv2.EVENT_LBUTTONUP:\n",
    "        p1 = (x, y)\n",
    "        make_roi()\n",
    "        \n",
    "def make_roi():\n",
    "    global roi\n",
    "    roi = src[p0[1]:p1[1], p0[0]:p1[0]]\n",
    "        \n",
    "def handdler_dst(event, x, y, flags, param):  #하얀판(복사할이미지윈도우) 에 붙인 이벤트 핸들러\n",
    "    global roi\n",
    "    if event == cv2.EVENT_LBUTTONDOWN:\n",
    "        if roi is not None: #roi랑 같은 크기의 영역을 클릭한 위치에 잡는다\n",
    "            h, w, _ = roi.shape\n",
    "            dst[y:y+h, x:x+w] = roi\n",
    "            cv2.imshow('dst', dst)\n",
    "            roi = None\n",
    "\n",
    "cv2.setMouseCallback('src', handdler_src)\n",
    "cv2.setMouseCallback('dst', handdler_dst)\n",
    "\n",
    "while True:\n",
    "    if cv2.waitKey(0) & 0xFF == 27:#waitKey(0) => 입력받은 키의 유니코드 값을 반환\n",
    "        break\n",
    "\n",
    "cv2.waitKey(0)\n",
    "cv2.destroyAllWindows()\n"
   ]
  },
  {
   "cell_type": "code",
   "execution_count": null,
   "metadata": {},
   "outputs": [],
   "source": []
  },
  {
   "cell_type": "code",
   "execution_count": null,
   "metadata": {},
   "outputs": [],
   "source": []
  },
  {
   "cell_type": "code",
   "execution_count": null,
   "metadata": {},
   "outputs": [],
   "source": []
  }
 ],
 "metadata": {
  "kernelspec": {
   "display_name": "Python 3",
   "language": "python",
   "name": "python3"
  },
  "language_info": {
   "codemirror_mode": {
    "name": "ipython",
    "version": 3
   },
   "file_extension": ".py",
   "mimetype": "text/x-python",
   "name": "python",
   "nbconvert_exporter": "python",
   "pygments_lexer": "ipython3",
   "version": "3.8.6"
  }
 },
 "nbformat": 4,
 "nbformat_minor": 4
}
